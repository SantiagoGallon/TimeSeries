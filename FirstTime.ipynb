{
 "cells": [
  {
   "cell_type": "markdown",
   "metadata": {},
   "source": [
    "# What's Python?\n",
    "\n",
    "<img src='pythonlogo.png' width='220' />\n",
    "\n",
    "Python (https://www.python.org/) is a popular high-level programming language widely used for Artificial Intelligence, Statistical Machine Learning, Data Analysis, Web Development, etc. It was created in 1991 by Guido van Rossum at the Stichting Mathematisch Centrum (Netherlands), and developed by the Python Software Foundation (PSF).\n",
    "\n",
    "Some people consider that Python is \"*The Swiss Army Knife of programming languages*\"\n",
    "\n",
    "### Main reasons to use Python:\n",
    "* Powerful\n",
    "* Fast\n",
    "* Available in Windows, Mac OS X, and Linux/Unix\n",
    "* Friendly\n",
    "* Easy to learn\n",
    "* Open-source\n",
    "* Simple\n",
    "\n",
    "### Institutions that use Python\n",
    "* Instagram\n",
    "* Spotify\n",
    "* Amazon\n",
    "* Facebook\n",
    "* Netflix\n",
    "* Dropbox\n",
    "* IBM\n",
    "* Uber\n",
    "* Bank of America\n",
    "* JP Morgan Chase\n",
    "* General Electric\n",
    "* Genome Projects\n",
    "* Conseil Européen pour la Recherche Nucléaire (CERN)\n",
    "* NASA\n",
    "* CIA\n",
    "* ...\n",
    "\n",
    "### Versions:\n",
    "* Python 3.8.0 (recommended!)\n",
    "* Python 2.7.17\n",
    "\n",
    "### Main Python libraries:\n",
    "* **NumPy**: $N$-dimensional array for numerical computation (https://numpy.org/)\n",
    "* **SciPy**: Scientific computing and technical computing (https://www.scipy.org/)\n",
    "* **Pandas**: Data structures and analysis tools (https://pandas.pydata.org/)\n",
    "* **Matplotlib**: Comprehensive 2D plotting (https://matplotlib.org/)\n",
    "* **Seaborn**: Statistical graphics (https://seaborn.pydata.org/)\n",
    "* **Bokeh**: Interactive web visualization (https://bokeh.pydata.org)\n",
    "* **Scikit-learn**: Machine learning and data mining (https://scikit-learn.org)\n",
    "* **Statmodels**: Estimation of statistical models (https://www.statsmodels.org)\n",
    "* **TensorFlow**: Machine learning (https://www.tensorflow.org)\n",
    "* **Keras**: Deep neural networks (https://keras.io/)\n",
    "    \n",
    "However, the Python Package Index (PyPI, https://pypi.org/) , the official repository of Python, has +130000 packages.\n",
    "    \n",
    "### Python IDEs (Integrated Development Environment)\n",
    "\n",
    "These are environments which combine all features like coding, compiling, debugging, executing, autocomplete, libraries in a simple common framework.\n",
    "* Jupyter Notebook (https://jupyter.org/)\n",
    "* Spyder (https://www.spyder-ide.org/)\n",
    "* Pycharm (https://www.jetbrains.com/pycharm/)\n",
    "* PyDev (https://www.pydev.org/)\n",
    "* Sublime Text (https://www.sublimetext.com/)\n",
    "* Wing (https://wingware.com/)\n",
    "* Vim (http://www.vim.org/)\n",
    "* Rodeo (https://rodeo.yhat.com/)\n",
    "\n"
   ]
  },
  {
   "cell_type": "markdown",
   "metadata": {},
   "source": [
    "# Python installation\n",
    "\n",
    "There are multiple ways to install Python, but an easy and recommended way to do this is with **Anaconda** (an open source and easy-to-use Python/R data science platform).\n",
    "\n",
    "<img src='anacondalogo.png' width='220' />\n",
    "\n",
    "1. Download Anaconda for Python from https://www.anaconda.com/\n",
    "2. Install (see https://docs.anaconda.com/anaconda/install/)\n",
    "3. Launch and update\n",
    "\n",
    "Check that installation was successful by  typing ```python --version``` in the command line.\n",
    "\n",
    "* Anaconda comes with a Graphical User Interface (GUI) called **Anaconda Navigator** (https://docs.continuum.io/anaconda/navigator/)\n",
    "\n",
    "<img src='navigator.png' width='900' />\n",
    "\n",
    "* However, Anaconda can also be started with Anaconda prompt (command-line environment) called **conda** (https://conda.io/en/latest/) which is the open source package management system for Anaconda Python installations. \n",
    "\n",
    "## Python packages installation\n",
    "\n",
    "There are many ways to install Python packages, but usually it is done by:\n",
    "\n",
    "* Using **conda**\n",
    "\n",
    "```python\n",
    "conda install PACKAGENAME\n",
    "```\n",
    "\n",
    "```python\n",
    "conda update  PACKAGENAME\n",
    "```\n",
    "\n",
    "* Or using **pip** (https://pip.pypa.io/en/stable/) , a package installer for Python, which can be used to install packages from the Python Package Index (PyPI, https://pypi.org/) and other indexes. **pip** is already installed with Python.\n",
    "\n",
    "```python\n",
    "pip install PACKAGENAME\n",
    "```\n",
    "\n",
    "```python\n",
    "pip install --upgrade PACKAGENAME\n",
    "```\n"
   ]
  },
  {
   "cell_type": "markdown",
   "metadata": {},
   "source": [
    "# Jupyter Notebook\n",
    "\n",
    "<img src='jupyterlogo.png' width='100' />\n",
    "\n",
    "The **Jupyter Notebook** (https://jupyter.org/) is an open-source interactive web application that allows to create and share documents that combines live code, mathematical equations, visualizations, narrative text, etc. Jupyter supports over 40 programming languages, including Python, R, Julia, Ruby, and Scala.\n",
    "\n",
    "Among its uses are:\n",
    "\n",
    "* Data cleaning\n",
    "* Data transformation\n",
    "* Numerical simulation\n",
    "* Statistical modeling\n",
    "* Data visualization\n",
    "* Machine learning\n",
    "* ...\n",
    "\n",
    "The **Jupyter Notebook** comes included in **Anaconda**. Refer to the Jupyter Notebook documentation at https://jupyter-notebook.readthedocs.io/en/latest/.\n",
    "\n",
    "To start the Jupyter Notebook server from the command line, write:\n",
    "\n",
    "```python\n",
    "jupyter notebook\n",
    "```\n",
    "\n",
    "<img src='jupyter.png' width='900' />\n",
    "\n",
    "A Jupyter Notebook document is a JSON (JavaScript Object Notation) document containing an ordered list of input/output cells which can contain code, text (using Markdown), mathematics, plots and rich media, usually ending with the **.ipynb** extension. To open a specific Notebook, write:\n",
    "\n",
    "```python\n",
    "jupyter notebook Path/notebook.ipynb\n",
    "```\n",
    "\n",
    "A Jupyter Notebook document can be converted in different output formats such as HTML, presentation slides, LaTeX, PDF, Markdown, Python) through \"Download As\" in the web interface."
   ]
  },
  {
   "cell_type": "markdown",
   "metadata": {},
   "source": [
    "# Comments\n",
    "Python ignores comments starting a line with a **#** symbol"
   ]
  },
  {
   "cell_type": "code",
   "execution_count": 1,
   "metadata": {},
   "outputs": [
    {
     "data": {
      "text/plain": [
       "2"
      ]
     },
     "execution_count": 1,
     "metadata": {},
     "output_type": "execute_result"
    }
   ],
   "source": [
    "# This a comment\n",
    "1 + 1 # This is a sum"
   ]
  },
  {
   "cell_type": "markdown",
   "metadata": {},
   "source": [
    "# Call installed libraries and print its versions"
   ]
  },
  {
   "cell_type": "code",
   "execution_count": 2,
   "metadata": {},
   "outputs": [
    {
     "name": "stdout",
     "output_type": "stream",
     "text": [
      "numpy: 1.15.1\n",
      "scipy: 1.1.0\n",
      "pandas: 0.23.4\n",
      "matplotlib: 3.0.2\n",
      "sklearn: 0.19.2\n"
     ]
    }
   ],
   "source": [
    "# numpy. Base N-dimensional array package (https://numpy.org/)\n",
    "# N-dimensional array objects, sophisticated functions, linear algebra, Fourier transform, and random number capabilities\n",
    "import numpy as np\n",
    "print('numpy: {}'.format(np.__version__))\n",
    "\n",
    "# scipy. Scientific computing and technical computing (https://www.scipy.org/)\n",
    "# Modules for optimization, linear algebra, integration, interpolation, special functions, FFT, signal and image processing, ODE solvers and other tasks\n",
    "import scipy as sp\n",
    "print('scipy: {}'.format(sp.__version__))\n",
    "\n",
    "# pandas. Data structures and analysis tools (https://pandas.pydata.org/)\n",
    "import pandas as pd\n",
    "print('pandas: {}'.format(pd.__version__))\n",
    "\n",
    "# matplotlib. Comprehensive 2D Plotting library (https://matplotlib.org/)\n",
    "import matplotlib as mpl\n",
    "print('matplotlib: {}'.format(mpl.__version__))\n",
    "\n",
    "# sklearn. Machine learning and data mining (https://scikit-learn.org)\n",
    "import sklearn as sk\n",
    "print('sklearn: {}'.format(sk.__version__))"
   ]
  },
  {
   "cell_type": "markdown",
   "metadata": {},
   "source": [
    "# Operators"
   ]
  },
  {
   "cell_type": "markdown",
   "metadata": {},
   "source": [
    "### Arithmetic operators\n",
    "\n",
    "Operator | Description    | Example\n",
    " -       | -              | -\n",
    "$+$      | Addition       | $x + y$\n",
    "$-$      | Subtraction    | $x - y$\n",
    "$*$      | Multiplication | $x * y$\n",
    "$/$      | Division       | $x\\, /\\, y$\n",
    "$**$     | Exponentiation | $x\\, **\\, y$\n",
    "pow(x, y)| Exponentiation | $x\\, **\\, y$\n",
    "$\\%$     | Modulus ($x\\, \\mathrm{mod}\\, y$)| $x\\, \\%\\, y$\n",
    "$//$     | Floor division | $x\\, //\\, y$\n",
    "\n",
    "### Comparison operators\n",
    "\n",
    "Operator | Description      | Example\n",
    "-        |-                 |-\n",
    "$==$     | Exactly equal to | $ x == y$\n",
    "$!=$     | Not equal to     | $x != y$\n",
    "$>$      | Greater than   | $x > y$\n",
    "$<$      | Less than      | $x < y$\n",
    "$>=$     | Greater than or equal to| $x >= y$\n",
    "$<=$     | Less than or equal to| $x <= y$\n",
    "\n",
    "### Logical operators\n",
    "\n",
    "Operator | Description      | Example\n",
    "-        |-                 |-\n",
    "and      | Returns True if both statements are true | $x < 5\\, \\mathrm{and}\\,x < 10$\n",
    "or       | Returns True if one of the statements is true   | $x < 5\\, \\mathrm{or}\\, x < 4$\n",
    "not      | Reverse the result, returns False if the result is true | $\\mathrm{not}(x < 5\\, \\mathrm{and}\\, x < 10)$\n",
    "\n",
    "### Identity operators\n",
    "Operator | Description      | Example\n",
    "-        |-                 |-\n",
    "is       | Returns true if both variables are the same object     | $x\\, \\mathrm{is}\\, y$\n",
    "is not   | Returns true if both variables are not the same object | $x\\, \\mathrm{is\\,not}\\, y$\n"
   ]
  },
  {
   "cell_type": "markdown",
   "metadata": {},
   "source": [
    "# Some data types\n",
    "* Text: ```str```\n",
    "* Numeric: ```int```, ```float```, ```complex```\n",
    "* Sequence:```list```, ```tuple```, ```range```\n",
    "* Mapping:```dict```\n",
    "* Set:```set```\n",
    "* Boolean:```bool```\n",
    "\n",
    "<img src='Python3hierarchy.png' width='500' />\n",
    "\n",
    "*Image by Максим Пе - Own work, CC BY-SA 4.0, https://commons.wikimedia.org/w/index.php?curid=74062464*"
   ]
  },
  {
   "cell_type": "code",
   "execution_count": 3,
   "metadata": {},
   "outputs": [
    {
     "name": "stdout",
     "output_type": "stream",
     "text": [
      "<class 'str'>\n",
      "<class 'int'>\n",
      "<class 'float'>\n",
      "<class 'complex'>\n",
      "<class 'list'>\n",
      "<class 'tuple'>\n",
      "<class 'range'>\n",
      "<class 'dict'>\n",
      "<class 'set'>\n",
      "<class 'bool'>\n"
     ]
    }
   ],
   "source": [
    "a = 'Hello EPM' # also \"Hello EPM\"\n",
    "print(type(a))  # display the data type of a\n",
    "\n",
    "a = 10          # Int, or integer, is a whole number, positive or negative, without decimals, of unlimited length.\n",
    "print(type(a))\n",
    "\n",
    "a = 10.5        # Float is a number, positive or negative, containing one or more decimals\n",
    "print(type(a))\n",
    "\n",
    "a = 5 - 10j     # Complex numbers are written with a \"j\" as the imaginary part\n",
    "print(type(a))\n",
    "\n",
    "a = [1, 3, 5]   # List: is a collection which is ordered and changeable\n",
    "print(type(a))\n",
    "\n",
    "a = (1, 3, 5)   # Tuple: is a collection which is ordered and unchangeable\n",
    "print(type(a))\n",
    "\n",
    "a = range(10)\n",
    "print(type(a))\n",
    "\n",
    "a = {\"Firm\" : \"EPM\", \"CIIU\" : 3513} # Dictionary: is a collection which is unordered, changeable and indexed. No duplicate members.\n",
    "print(type(a))\n",
    "\n",
    "a = {\"green\", \"red\", \"blue\"}        # Set: is a collection which is unordered and unindexed\n",
    "print(type(a)) \n",
    "\n",
    "a = False       # Booleans represent one of two values: True or False.\n",
    "print(type(a))"
   ]
  },
  {
   "cell_type": "code",
   "execution_count": 4,
   "metadata": {},
   "outputs": [
    {
     "name": "stdout",
     "output_type": "stream",
     "text": [
      "Hello EPM\n",
      "9\n",
      "EPM\n"
     ]
    }
   ],
   "source": [
    "# Strings\n",
    "data = 'Hello EPM' # \"Hello EPM\" is the same as \"Hello EPM\"\n",
    "print(data)\n",
    "print(len(data))   # Returns the length of a string (including spaces)\n",
    "print(data[6:9])   # Get the character at position 6:9 (not included). In Python the first element has the position 0"
   ]
  },
  {
   "cell_type": "markdown",
   "metadata": {},
   "source": [
    "# Load CSV files"
   ]
  },
  {
   "cell_type": "code",
   "execution_count": 5,
   "metadata": {},
   "outputs": [
    {
     "name": "stdout",
     "output_type": "stream",
     "text": [
      "[[  6.    148.     72.    ...   0.627  50.      1.   ]\n",
      " [  1.     85.     66.    ...   0.351  31.      0.   ]\n",
      " [  8.    183.     64.    ...   0.672  32.      1.   ]\n",
      " ...\n",
      " [  5.    121.     72.    ...   0.245  30.      0.   ]\n",
      " [  1.    126.     60.    ...   0.349  47.      1.   ]\n",
      " [  1.     93.     70.    ...   0.315  23.      0.   ]]\n"
     ]
    },
    {
     "data": {
      "text/plain": [
       "(768, 9)"
      ]
     },
     "execution_count": 5,
     "metadata": {},
     "output_type": "execute_result"
    }
   ],
   "source": [
    "# Load CSV files using NumPy\n",
    "from numpy import loadtxt\n",
    "filename = 'pima-indians-diabetes.csv'\n",
    "data = loadtxt(filename, delimiter=\",\")\n",
    "print(data)\n",
    "data.shape"
   ]
  },
  {
   "cell_type": "code",
   "execution_count": null,
   "metadata": {},
   "outputs": [],
   "source": [
    "# Load CSV from URL using NumPy\n",
    "from numpy import loadtxt\n",
    "data = loadtxt('https://gist.githubusercontent.com/ktisha/c21e73a1bd1700294ef790c56c8aec1f/raw/819b69b5736821ccee93d05b51de0510bea00294/pima-indians-diabetes.csv', delimiter=\",\")\n",
    "print(data)\n",
    "data.shape"
   ]
  },
  {
   "cell_type": "code",
   "execution_count": 1,
   "metadata": {
    "scrolled": false
   },
   "outputs": [
    {
     "name": "stdout",
     "output_type": "stream",
     "text": [
      "<class 'pandas.core.frame.DataFrame'>\n",
      "Int64Index: 768 entries, 1 to 768\n",
      "Data columns (total 9 columns):\n",
      "preg     768 non-null int64\n",
      "plas     768 non-null int64\n",
      "pres     768 non-null int64\n",
      "skin     768 non-null int64\n",
      "test     768 non-null int64\n",
      "mass     768 non-null float64\n",
      "pedi     768 non-null float64\n",
      "age      768 non-null int64\n",
      "class    768 non-null int64\n",
      "dtypes: float64(2), int64(7)\n",
      "memory usage: 60.0 KB\n"
     ]
    },
    {
     "data": {
      "text/html": [
       "<div>\n",
       "<style scoped>\n",
       "    .dataframe tbody tr th:only-of-type {\n",
       "        vertical-align: middle;\n",
       "    }\n",
       "\n",
       "    .dataframe tbody tr th {\n",
       "        vertical-align: top;\n",
       "    }\n",
       "\n",
       "    .dataframe thead th {\n",
       "        text-align: right;\n",
       "    }\n",
       "</style>\n",
       "<table border=\"1\" class=\"dataframe\">\n",
       "  <thead>\n",
       "    <tr style=\"text-align: right;\">\n",
       "      <th></th>\n",
       "      <th>preg</th>\n",
       "      <th>plas</th>\n",
       "      <th>pres</th>\n",
       "      <th>skin</th>\n",
       "      <th>test</th>\n",
       "      <th>mass</th>\n",
       "      <th>pedi</th>\n",
       "      <th>age</th>\n",
       "      <th>class</th>\n",
       "    </tr>\n",
       "  </thead>\n",
       "  <tbody>\n",
       "    <tr>\n",
       "      <th>754</th>\n",
       "      <td>0</td>\n",
       "      <td>181</td>\n",
       "      <td>88</td>\n",
       "      <td>44</td>\n",
       "      <td>510</td>\n",
       "      <td>43.3</td>\n",
       "      <td>0.222</td>\n",
       "      <td>26</td>\n",
       "      <td>1</td>\n",
       "    </tr>\n",
       "    <tr>\n",
       "      <th>755</th>\n",
       "      <td>8</td>\n",
       "      <td>154</td>\n",
       "      <td>78</td>\n",
       "      <td>32</td>\n",
       "      <td>0</td>\n",
       "      <td>32.4</td>\n",
       "      <td>0.443</td>\n",
       "      <td>45</td>\n",
       "      <td>1</td>\n",
       "    </tr>\n",
       "    <tr>\n",
       "      <th>756</th>\n",
       "      <td>1</td>\n",
       "      <td>128</td>\n",
       "      <td>88</td>\n",
       "      <td>39</td>\n",
       "      <td>110</td>\n",
       "      <td>36.5</td>\n",
       "      <td>1.057</td>\n",
       "      <td>37</td>\n",
       "      <td>1</td>\n",
       "    </tr>\n",
       "    <tr>\n",
       "      <th>757</th>\n",
       "      <td>7</td>\n",
       "      <td>137</td>\n",
       "      <td>90</td>\n",
       "      <td>41</td>\n",
       "      <td>0</td>\n",
       "      <td>32.0</td>\n",
       "      <td>0.391</td>\n",
       "      <td>39</td>\n",
       "      <td>0</td>\n",
       "    </tr>\n",
       "    <tr>\n",
       "      <th>758</th>\n",
       "      <td>0</td>\n",
       "      <td>123</td>\n",
       "      <td>72</td>\n",
       "      <td>0</td>\n",
       "      <td>0</td>\n",
       "      <td>36.3</td>\n",
       "      <td>0.258</td>\n",
       "      <td>52</td>\n",
       "      <td>1</td>\n",
       "    </tr>\n",
       "    <tr>\n",
       "      <th>759</th>\n",
       "      <td>1</td>\n",
       "      <td>106</td>\n",
       "      <td>76</td>\n",
       "      <td>0</td>\n",
       "      <td>0</td>\n",
       "      <td>37.5</td>\n",
       "      <td>0.197</td>\n",
       "      <td>26</td>\n",
       "      <td>0</td>\n",
       "    </tr>\n",
       "    <tr>\n",
       "      <th>760</th>\n",
       "      <td>6</td>\n",
       "      <td>190</td>\n",
       "      <td>92</td>\n",
       "      <td>0</td>\n",
       "      <td>0</td>\n",
       "      <td>35.5</td>\n",
       "      <td>0.278</td>\n",
       "      <td>66</td>\n",
       "      <td>1</td>\n",
       "    </tr>\n",
       "    <tr>\n",
       "      <th>761</th>\n",
       "      <td>2</td>\n",
       "      <td>88</td>\n",
       "      <td>58</td>\n",
       "      <td>26</td>\n",
       "      <td>16</td>\n",
       "      <td>28.4</td>\n",
       "      <td>0.766</td>\n",
       "      <td>22</td>\n",
       "      <td>0</td>\n",
       "    </tr>\n",
       "    <tr>\n",
       "      <th>762</th>\n",
       "      <td>9</td>\n",
       "      <td>170</td>\n",
       "      <td>74</td>\n",
       "      <td>31</td>\n",
       "      <td>0</td>\n",
       "      <td>44.0</td>\n",
       "      <td>0.403</td>\n",
       "      <td>43</td>\n",
       "      <td>1</td>\n",
       "    </tr>\n",
       "    <tr>\n",
       "      <th>763</th>\n",
       "      <td>9</td>\n",
       "      <td>89</td>\n",
       "      <td>62</td>\n",
       "      <td>0</td>\n",
       "      <td>0</td>\n",
       "      <td>22.5</td>\n",
       "      <td>0.142</td>\n",
       "      <td>33</td>\n",
       "      <td>0</td>\n",
       "    </tr>\n",
       "    <tr>\n",
       "      <th>764</th>\n",
       "      <td>10</td>\n",
       "      <td>101</td>\n",
       "      <td>76</td>\n",
       "      <td>48</td>\n",
       "      <td>180</td>\n",
       "      <td>32.9</td>\n",
       "      <td>0.171</td>\n",
       "      <td>63</td>\n",
       "      <td>0</td>\n",
       "    </tr>\n",
       "    <tr>\n",
       "      <th>765</th>\n",
       "      <td>2</td>\n",
       "      <td>122</td>\n",
       "      <td>70</td>\n",
       "      <td>27</td>\n",
       "      <td>0</td>\n",
       "      <td>36.8</td>\n",
       "      <td>0.340</td>\n",
       "      <td>27</td>\n",
       "      <td>0</td>\n",
       "    </tr>\n",
       "    <tr>\n",
       "      <th>766</th>\n",
       "      <td>5</td>\n",
       "      <td>121</td>\n",
       "      <td>72</td>\n",
       "      <td>23</td>\n",
       "      <td>112</td>\n",
       "      <td>26.2</td>\n",
       "      <td>0.245</td>\n",
       "      <td>30</td>\n",
       "      <td>0</td>\n",
       "    </tr>\n",
       "    <tr>\n",
       "      <th>767</th>\n",
       "      <td>1</td>\n",
       "      <td>126</td>\n",
       "      <td>60</td>\n",
       "      <td>0</td>\n",
       "      <td>0</td>\n",
       "      <td>30.1</td>\n",
       "      <td>0.349</td>\n",
       "      <td>47</td>\n",
       "      <td>1</td>\n",
       "    </tr>\n",
       "    <tr>\n",
       "      <th>768</th>\n",
       "      <td>1</td>\n",
       "      <td>93</td>\n",
       "      <td>70</td>\n",
       "      <td>31</td>\n",
       "      <td>0</td>\n",
       "      <td>30.4</td>\n",
       "      <td>0.315</td>\n",
       "      <td>23</td>\n",
       "      <td>0</td>\n",
       "    </tr>\n",
       "  </tbody>\n",
       "</table>\n",
       "</div>"
      ],
      "text/plain": [
       "     preg  plas  pres  skin  test  mass   pedi  age  class\n",
       "754     0   181    88    44   510  43.3  0.222   26      1\n",
       "755     8   154    78    32     0  32.4  0.443   45      1\n",
       "756     1   128    88    39   110  36.5  1.057   37      1\n",
       "757     7   137    90    41     0  32.0  0.391   39      0\n",
       "758     0   123    72     0     0  36.3  0.258   52      1\n",
       "759     1   106    76     0     0  37.5  0.197   26      0\n",
       "760     6   190    92     0     0  35.5  0.278   66      1\n",
       "761     2    88    58    26    16  28.4  0.766   22      0\n",
       "762     9   170    74    31     0  44.0  0.403   43      1\n",
       "763     9    89    62     0     0  22.5  0.142   33      0\n",
       "764    10   101    76    48   180  32.9  0.171   63      0\n",
       "765     2   122    70    27     0  36.8  0.340   27      0\n",
       "766     5   121    72    23   112  26.2  0.245   30      0\n",
       "767     1   126    60     0     0  30.1  0.349   47      1\n",
       "768     1    93    70    31     0  30.4  0.315   23      0"
      ]
     },
     "execution_count": 1,
     "metadata": {},
     "output_type": "execute_result"
    }
   ],
   "source": [
    "# Load CSV files using Pandas (Data Frames)\n",
    "from pandas import read_csv\n",
    "filename = 'pima-indians-diabetes.csv'\n",
    "names = ['preg', 'plas', 'pres', 'skin', 'test', 'mass', 'pedi', 'age', 'class']\n",
    "data = read_csv(filename, sep = ',', names = names)\n",
    "# also\n",
    "#data = read_csv('https://gist.githubusercontent.com/ktisha/c21e73a1bd1700294ef790c56c8aec1f/raw/819b69b5736821ccee93d05b51de0510bea00294/pima-indians-diabetes.csv', names=names)\n",
    "data = data.rename(index = lambda x: x + 1) # index from 1 to n\n",
    "type(data)          # object’s type\n",
    "data.shape          # data dimension\n",
    "len(data)           # length of data\n",
    "data.shape[0]       # length of data (number of rows)\n",
    "data.shape[1]       # number of variables (columns)\n",
    "data.dtypes         # data type of variables\n",
    "data.info()         # data information\n",
    "data.describe()     # statistical summarize\n",
    "data.columns        # colnames\n",
    "data.columns.values \n",
    "data.index          # index names\n",
    "data.index.values   \n",
    "\n",
    "# Data visualization\n",
    "data                # view the data\n",
    "data.head(15)       # view the first rows of data\n",
    "data.tail(15)       # view the last  rows of data\n",
    "\n",
    "# Also\n",
    "# Load CSV using pandas\n",
    "#names = ['CRIM','ZN','INDUS','CHAS','NOX','RM','AGE','DIS','RAD','TAX','PTRATIO','B','LSTAT','MEDV']\n",
    "#import pandas as pd\n",
    "#data = pd.read_table('https://archive.ics.uci.edu/ml/machine-learning-databases/housing/housing.data', sep='\\s+', names=names)\n",
    "#data.shape\n",
    "#data = data.rename(index = lambda x: x + 1) \n",
    "#data"
   ]
  },
  {
   "cell_type": "markdown",
   "metadata": {},
   "source": [
    "# Saving Dataframes"
   ]
  },
  {
   "cell_type": "code",
   "execution_count": 52,
   "metadata": {},
   "outputs": [],
   "source": [
    "data.to_csv('/Users/santiago/Downloads/example.csv')\n",
    "data.to_csv('/Users/santiago/Downloads/example1.txt', sep=',')\n",
    "data.to_csv('/Users/santiago/Downloads/example2.txt', sep=' ')\n",
    "data.to_csv('/Users/santiago/Downloads/example3.txt', sep='\\t')"
   ]
  },
  {
   "cell_type": "code",
   "execution_count": 9,
   "metadata": {},
   "outputs": [],
   "source": [
    "#data = read_csv('energy.txt', sep = ',')\n",
    "#data.shape\n",
    "#data.head(10)"
   ]
  },
  {
   "cell_type": "markdown",
   "metadata": {},
   "source": [
    "# Extracting data from a data frame"
   ]
  },
  {
   "cell_type": "code",
   "execution_count": 7,
   "metadata": {},
   "outputs": [
    {
     "data": {
      "text/html": [
       "<div>\n",
       "<style scoped>\n",
       "    .dataframe tbody tr th:only-of-type {\n",
       "        vertical-align: middle;\n",
       "    }\n",
       "\n",
       "    .dataframe tbody tr th {\n",
       "        vertical-align: top;\n",
       "    }\n",
       "\n",
       "    .dataframe thead th {\n",
       "        text-align: right;\n",
       "    }\n",
       "</style>\n",
       "<table border=\"1\" class=\"dataframe\">\n",
       "  <thead>\n",
       "    <tr style=\"text-align: right;\">\n",
       "      <th></th>\n",
       "      <th>preg</th>\n",
       "      <th>plas</th>\n",
       "      <th>pres</th>\n",
       "      <th>skin</th>\n",
       "      <th>test</th>\n",
       "      <th>mass</th>\n",
       "      <th>pedi</th>\n",
       "      <th>age</th>\n",
       "      <th>class</th>\n",
       "    </tr>\n",
       "  </thead>\n",
       "  <tbody>\n",
       "    <tr>\n",
       "      <th>159</th>\n",
       "      <td>2</td>\n",
       "      <td>88</td>\n",
       "      <td>74</td>\n",
       "      <td>19</td>\n",
       "      <td>53</td>\n",
       "      <td>29.0</td>\n",
       "      <td>0.229</td>\n",
       "      <td>22</td>\n",
       "      <td>0</td>\n",
       "    </tr>\n",
       "    <tr>\n",
       "      <th>593</th>\n",
       "      <td>3</td>\n",
       "      <td>132</td>\n",
       "      <td>80</td>\n",
       "      <td>0</td>\n",
       "      <td>0</td>\n",
       "      <td>34.4</td>\n",
       "      <td>0.402</td>\n",
       "      <td>44</td>\n",
       "      <td>1</td>\n",
       "    </tr>\n",
       "    <tr>\n",
       "      <th>573</th>\n",
       "      <td>3</td>\n",
       "      <td>111</td>\n",
       "      <td>58</td>\n",
       "      <td>31</td>\n",
       "      <td>44</td>\n",
       "      <td>29.5</td>\n",
       "      <td>0.430</td>\n",
       "      <td>22</td>\n",
       "      <td>0</td>\n",
       "    </tr>\n",
       "    <tr>\n",
       "      <th>621</th>\n",
       "      <td>2</td>\n",
       "      <td>112</td>\n",
       "      <td>86</td>\n",
       "      <td>42</td>\n",
       "      <td>160</td>\n",
       "      <td>38.4</td>\n",
       "      <td>0.246</td>\n",
       "      <td>28</td>\n",
       "      <td>0</td>\n",
       "    </tr>\n",
       "    <tr>\n",
       "      <th>447</th>\n",
       "      <td>1</td>\n",
       "      <td>100</td>\n",
       "      <td>72</td>\n",
       "      <td>12</td>\n",
       "      <td>70</td>\n",
       "      <td>25.3</td>\n",
       "      <td>0.658</td>\n",
       "      <td>28</td>\n",
       "      <td>0</td>\n",
       "    </tr>\n",
       "    <tr>\n",
       "      <th>730</th>\n",
       "      <td>2</td>\n",
       "      <td>92</td>\n",
       "      <td>52</td>\n",
       "      <td>0</td>\n",
       "      <td>0</td>\n",
       "      <td>30.1</td>\n",
       "      <td>0.141</td>\n",
       "      <td>22</td>\n",
       "      <td>0</td>\n",
       "    </tr>\n",
       "    <tr>\n",
       "      <th>97</th>\n",
       "      <td>2</td>\n",
       "      <td>92</td>\n",
       "      <td>62</td>\n",
       "      <td>28</td>\n",
       "      <td>0</td>\n",
       "      <td>31.6</td>\n",
       "      <td>0.130</td>\n",
       "      <td>24</td>\n",
       "      <td>0</td>\n",
       "    </tr>\n",
       "    <tr>\n",
       "      <th>747</th>\n",
       "      <td>1</td>\n",
       "      <td>147</td>\n",
       "      <td>94</td>\n",
       "      <td>41</td>\n",
       "      <td>0</td>\n",
       "      <td>49.3</td>\n",
       "      <td>0.358</td>\n",
       "      <td>27</td>\n",
       "      <td>1</td>\n",
       "    </tr>\n",
       "    <tr>\n",
       "      <th>580</th>\n",
       "      <td>2</td>\n",
       "      <td>197</td>\n",
       "      <td>70</td>\n",
       "      <td>99</td>\n",
       "      <td>0</td>\n",
       "      <td>34.7</td>\n",
       "      <td>0.575</td>\n",
       "      <td>62</td>\n",
       "      <td>1</td>\n",
       "    </tr>\n",
       "    <tr>\n",
       "      <th>40</th>\n",
       "      <td>4</td>\n",
       "      <td>111</td>\n",
       "      <td>72</td>\n",
       "      <td>47</td>\n",
       "      <td>207</td>\n",
       "      <td>37.1</td>\n",
       "      <td>1.390</td>\n",
       "      <td>56</td>\n",
       "      <td>1</td>\n",
       "    </tr>\n",
       "    <tr>\n",
       "      <th>399</th>\n",
       "      <td>3</td>\n",
       "      <td>82</td>\n",
       "      <td>70</td>\n",
       "      <td>0</td>\n",
       "      <td>0</td>\n",
       "      <td>21.1</td>\n",
       "      <td>0.389</td>\n",
       "      <td>25</td>\n",
       "      <td>0</td>\n",
       "    </tr>\n",
       "    <tr>\n",
       "      <th>692</th>\n",
       "      <td>13</td>\n",
       "      <td>158</td>\n",
       "      <td>114</td>\n",
       "      <td>0</td>\n",
       "      <td>0</td>\n",
       "      <td>42.3</td>\n",
       "      <td>0.257</td>\n",
       "      <td>44</td>\n",
       "      <td>1</td>\n",
       "    </tr>\n",
       "    <tr>\n",
       "      <th>245</th>\n",
       "      <td>2</td>\n",
       "      <td>146</td>\n",
       "      <td>76</td>\n",
       "      <td>35</td>\n",
       "      <td>194</td>\n",
       "      <td>38.2</td>\n",
       "      <td>0.329</td>\n",
       "      <td>29</td>\n",
       "      <td>0</td>\n",
       "    </tr>\n",
       "    <tr>\n",
       "      <th>154</th>\n",
       "      <td>1</td>\n",
       "      <td>153</td>\n",
       "      <td>82</td>\n",
       "      <td>42</td>\n",
       "      <td>485</td>\n",
       "      <td>40.6</td>\n",
       "      <td>0.687</td>\n",
       "      <td>23</td>\n",
       "      <td>0</td>\n",
       "    </tr>\n",
       "    <tr>\n",
       "      <th>723</th>\n",
       "      <td>1</td>\n",
       "      <td>149</td>\n",
       "      <td>68</td>\n",
       "      <td>29</td>\n",
       "      <td>127</td>\n",
       "      <td>29.3</td>\n",
       "      <td>0.349</td>\n",
       "      <td>42</td>\n",
       "      <td>1</td>\n",
       "    </tr>\n",
       "  </tbody>\n",
       "</table>\n",
       "</div>"
      ],
      "text/plain": [
       "     preg  plas  pres  skin  test  mass   pedi  age  class\n",
       "159     2    88    74    19    53  29.0  0.229   22      0\n",
       "593     3   132    80     0     0  34.4  0.402   44      1\n",
       "573     3   111    58    31    44  29.5  0.430   22      0\n",
       "621     2   112    86    42   160  38.4  0.246   28      0\n",
       "447     1   100    72    12    70  25.3  0.658   28      0\n",
       "730     2    92    52     0     0  30.1  0.141   22      0\n",
       "97      2    92    62    28     0  31.6  0.130   24      0\n",
       "747     1   147    94    41     0  49.3  0.358   27      1\n",
       "580     2   197    70    99     0  34.7  0.575   62      1\n",
       "40      4   111    72    47   207  37.1  1.390   56      1\n",
       "399     3    82    70     0     0  21.1  0.389   25      0\n",
       "692    13   158   114     0     0  42.3  0.257   44      1\n",
       "245     2   146    76    35   194  38.2  0.329   29      0\n",
       "154     1   153    82    42   485  40.6  0.687   23      0\n",
       "723     1   149    68    29   127  29.3  0.349   42      1"
      ]
     },
     "execution_count": 7,
     "metadata": {},
     "output_type": "execute_result"
    }
   ],
   "source": [
    "data[0:5]                      # extract specific range of rows\n",
    "data[0:6:2]                    # slice of data from i to j with step k\n",
    "data[0:5][['class', 'age']]    # extract specific range of rows for a list of variables\n",
    "data[['age']]                  # extract a column\n",
    "data[['class', 'age']]         # extract specific columns\n",
    "\n",
    "data.loc[5:10, 'age':'class']  # extract specific range of rows for a range of variables\n",
    "data.loc[[1, 13, 29], :]       # extract specific rows for all variables\n",
    "data.loc[:, ['class', 'age']]  # extract specific columns (variables) for all indexes\n",
    "data.loc[4, 'age']             # extract a specific cell\n",
    "#\n",
    "data.iloc[5:10,0:4]            # extract specific range of rows for a range of variables (not using labels)\n",
    "data.iloc[:,0:4]\n",
    "data.iloc[5:10,:]\n",
    "\n",
    "# Selecting random samples\n",
    "data.sample(n=6, replace=False) # sampling a number of rows\n",
    "data.sample(frac=0.02)          # or sampling a fraction of the rows"
   ]
  },
  {
   "cell_type": "markdown",
   "metadata": {},
   "source": [
    "# Remove rows or columns"
   ]
  },
  {
   "cell_type": "code",
   "execution_count": 8,
   "metadata": {},
   "outputs": [
    {
     "data": {
      "text/html": [
       "<div>\n",
       "<style scoped>\n",
       "    .dataframe tbody tr th:only-of-type {\n",
       "        vertical-align: middle;\n",
       "    }\n",
       "\n",
       "    .dataframe tbody tr th {\n",
       "        vertical-align: top;\n",
       "    }\n",
       "\n",
       "    .dataframe thead th {\n",
       "        text-align: right;\n",
       "    }\n",
       "</style>\n",
       "<table border=\"1\" class=\"dataframe\">\n",
       "  <thead>\n",
       "    <tr style=\"text-align: right;\">\n",
       "      <th></th>\n",
       "      <th>preg</th>\n",
       "      <th>plas</th>\n",
       "      <th>pres</th>\n",
       "      <th>skin</th>\n",
       "      <th>test</th>\n",
       "      <th>mass</th>\n",
       "      <th>class</th>\n",
       "    </tr>\n",
       "  </thead>\n",
       "  <tbody>\n",
       "    <tr>\n",
       "      <th>6</th>\n",
       "      <td>5</td>\n",
       "      <td>116</td>\n",
       "      <td>74</td>\n",
       "      <td>0</td>\n",
       "      <td>0</td>\n",
       "      <td>25.6</td>\n",
       "      <td>0</td>\n",
       "    </tr>\n",
       "    <tr>\n",
       "      <th>7</th>\n",
       "      <td>3</td>\n",
       "      <td>78</td>\n",
       "      <td>50</td>\n",
       "      <td>32</td>\n",
       "      <td>88</td>\n",
       "      <td>31.0</td>\n",
       "      <td>1</td>\n",
       "    </tr>\n",
       "    <tr>\n",
       "      <th>8</th>\n",
       "      <td>10</td>\n",
       "      <td>115</td>\n",
       "      <td>0</td>\n",
       "      <td>0</td>\n",
       "      <td>0</td>\n",
       "      <td>35.3</td>\n",
       "      <td>0</td>\n",
       "    </tr>\n",
       "    <tr>\n",
       "      <th>10</th>\n",
       "      <td>8</td>\n",
       "      <td>125</td>\n",
       "      <td>96</td>\n",
       "      <td>0</td>\n",
       "      <td>0</td>\n",
       "      <td>0.0</td>\n",
       "      <td>1</td>\n",
       "    </tr>\n",
       "  </tbody>\n",
       "</table>\n",
       "</div>"
      ],
      "text/plain": [
       "    preg  plas  pres  skin  test  mass  class\n",
       "6      5   116    74     0     0  25.6      0\n",
       "7      3    78    50    32    88  31.0      1\n",
       "8     10   115     0     0     0  35.3      0\n",
       "10     8   125    96     0     0   0.0      1"
      ]
     },
     "execution_count": 8,
     "metadata": {},
     "output_type": "execute_result"
    }
   ],
   "source": [
    "data = data.loc[5:10]\n",
    "data\n",
    "data.drop(columns=['age', 'pedi']) # also data.drop(['age', 'pedi'], axis=1)\n",
    "data.drop(index=[5, 9])            # also data.drop([5, 9], axis=0)\n",
    "data.drop(index=[5, 9], columns=['age', 'pedi'])"
   ]
  },
  {
   "cell_type": "markdown",
   "metadata": {},
   "source": [
    "# Rename column names and row indexes"
   ]
  },
  {
   "cell_type": "code",
   "execution_count": 9,
   "metadata": {},
   "outputs": [
    {
     "data": {
      "text/plain": [
       "Index(['E', 6, 7, 8, 9, 10], dtype='object')"
      ]
     },
     "execution_count": 9,
     "metadata": {},
     "output_type": "execute_result"
    }
   ],
   "source": [
    "data.columns\n",
    "data.rename(columns={'age': 'edad',\n",
    "                    'test': 'prueba'}\n",
    "            , inplace=True)\n",
    "data.head(5)\n",
    "data.columns\n",
    "\n",
    "data.rename(index={1: 'A',\n",
    "                   5: 'E'}\n",
    "            , inplace=True)\n",
    "\n",
    "data.head(5)\n",
    "data.index"
   ]
  },
  {
   "cell_type": "markdown",
   "metadata": {},
   "source": [
    "# Add new columns to a Data Frame"
   ]
  },
  {
   "cell_type": "code",
   "execution_count": 10,
   "metadata": {},
   "outputs": [
    {
     "data": {
      "text/plain": [
       "(6, 11)"
      ]
     },
     "execution_count": 10,
     "metadata": {},
     "output_type": "execute_result"
    }
   ],
   "source": [
    "newdata = data.assign(pres2=data['pres'] ** 2,\n",
    "                      age2 =data['edad'] ** 2\n",
    "                     ) # press^2 and age^2\n",
    "newdata\n",
    "newdata.shape"
   ]
  },
  {
   "cell_type": "markdown",
   "metadata": {},
   "source": [
    "# Replace values of a Data Frame with other values "
   ]
  },
  {
   "cell_type": "code",
   "execution_count": 11,
   "metadata": {},
   "outputs": [
    {
     "data": {
      "text/plain": [
       "E     2.288\n",
       "6     0.201\n",
       "7     0.248\n",
       "8     0.134\n",
       "9     0.158\n",
       "10    0.232\n",
       "Name: pedi, dtype: float64"
      ]
     },
     "execution_count": 11,
     "metadata": {},
     "output_type": "execute_result"
    }
   ],
   "source": [
    "data.pedi\n",
    "#data.replace([0,1], [-1,1])"
   ]
  },
  {
   "cell_type": "markdown",
   "metadata": {},
   "source": [
    "# Concatenation"
   ]
  },
  {
   "cell_type": "code",
   "execution_count": 12,
   "metadata": {},
   "outputs": [
    {
     "name": "stdout",
     "output_type": "stream",
     "text": [
      "    preg  plas  pres  skin  prueba  mass   pedi  edad  class\n",
      "1      0   137    40    35     168  43.1  2.288    33      1\n",
      "2      5   116    74     0       0  25.6  0.201    30      0\n",
      "3      3    78    50    32      88  31.0  0.248    26      1\n",
      "4     10   115     0     0       0  35.3  0.134    29      0\n",
      "5      2   197    70    45     543  30.5  0.158    53      1\n",
      "6      8   125    96     0       0   0.0  0.232    54      1\n",
      "7      0   137    40    35     168  43.1  2.288    33      1\n",
      "8      5   116    74     0       0  25.6  0.201    30      0\n",
      "9      3    78    50    32      88  31.0  0.248    26      1\n",
      "10    10   115     0     0       0  35.3  0.134    29      0\n",
      "11     2   197    70    45     543  30.5  0.158    53      1\n",
      "12     8   125    96     0       0   0.0  0.232    54      1\n"
     ]
    },
    {
     "data": {
      "text/html": [
       "<div>\n",
       "<style scoped>\n",
       "    .dataframe tbody tr th:only-of-type {\n",
       "        vertical-align: middle;\n",
       "    }\n",
       "\n",
       "    .dataframe tbody tr th {\n",
       "        vertical-align: top;\n",
       "    }\n",
       "\n",
       "    .dataframe thead th {\n",
       "        text-align: right;\n",
       "    }\n",
       "</style>\n",
       "<table border=\"1\" class=\"dataframe\">\n",
       "  <thead>\n",
       "    <tr style=\"text-align: right;\">\n",
       "      <th></th>\n",
       "      <th>preg</th>\n",
       "      <th>plas</th>\n",
       "      <th>pres</th>\n",
       "      <th>skin</th>\n",
       "      <th>prueba</th>\n",
       "      <th>mass</th>\n",
       "      <th>pedi</th>\n",
       "      <th>edad</th>\n",
       "      <th>class</th>\n",
       "      <th>preg</th>\n",
       "      <th>plas</th>\n",
       "      <th>pres</th>\n",
       "      <th>skin</th>\n",
       "      <th>prueba</th>\n",
       "      <th>mass</th>\n",
       "      <th>pedi</th>\n",
       "      <th>edad</th>\n",
       "      <th>class</th>\n",
       "    </tr>\n",
       "  </thead>\n",
       "  <tbody>\n",
       "    <tr>\n",
       "      <th>E</th>\n",
       "      <td>0</td>\n",
       "      <td>137</td>\n",
       "      <td>40</td>\n",
       "      <td>35</td>\n",
       "      <td>168</td>\n",
       "      <td>43.1</td>\n",
       "      <td>2.288</td>\n",
       "      <td>33</td>\n",
       "      <td>1</td>\n",
       "      <td>0</td>\n",
       "      <td>137</td>\n",
       "      <td>40</td>\n",
       "      <td>35</td>\n",
       "      <td>168</td>\n",
       "      <td>43.1</td>\n",
       "      <td>2.288</td>\n",
       "      <td>33</td>\n",
       "      <td>1</td>\n",
       "    </tr>\n",
       "    <tr>\n",
       "      <th>6</th>\n",
       "      <td>5</td>\n",
       "      <td>116</td>\n",
       "      <td>74</td>\n",
       "      <td>0</td>\n",
       "      <td>0</td>\n",
       "      <td>25.6</td>\n",
       "      <td>0.201</td>\n",
       "      <td>30</td>\n",
       "      <td>0</td>\n",
       "      <td>5</td>\n",
       "      <td>116</td>\n",
       "      <td>74</td>\n",
       "      <td>0</td>\n",
       "      <td>0</td>\n",
       "      <td>25.6</td>\n",
       "      <td>0.201</td>\n",
       "      <td>30</td>\n",
       "      <td>0</td>\n",
       "    </tr>\n",
       "    <tr>\n",
       "      <th>7</th>\n",
       "      <td>3</td>\n",
       "      <td>78</td>\n",
       "      <td>50</td>\n",
       "      <td>32</td>\n",
       "      <td>88</td>\n",
       "      <td>31.0</td>\n",
       "      <td>0.248</td>\n",
       "      <td>26</td>\n",
       "      <td>1</td>\n",
       "      <td>3</td>\n",
       "      <td>78</td>\n",
       "      <td>50</td>\n",
       "      <td>32</td>\n",
       "      <td>88</td>\n",
       "      <td>31.0</td>\n",
       "      <td>0.248</td>\n",
       "      <td>26</td>\n",
       "      <td>1</td>\n",
       "    </tr>\n",
       "    <tr>\n",
       "      <th>8</th>\n",
       "      <td>10</td>\n",
       "      <td>115</td>\n",
       "      <td>0</td>\n",
       "      <td>0</td>\n",
       "      <td>0</td>\n",
       "      <td>35.3</td>\n",
       "      <td>0.134</td>\n",
       "      <td>29</td>\n",
       "      <td>0</td>\n",
       "      <td>10</td>\n",
       "      <td>115</td>\n",
       "      <td>0</td>\n",
       "      <td>0</td>\n",
       "      <td>0</td>\n",
       "      <td>35.3</td>\n",
       "      <td>0.134</td>\n",
       "      <td>29</td>\n",
       "      <td>0</td>\n",
       "    </tr>\n",
       "    <tr>\n",
       "      <th>9</th>\n",
       "      <td>2</td>\n",
       "      <td>197</td>\n",
       "      <td>70</td>\n",
       "      <td>45</td>\n",
       "      <td>543</td>\n",
       "      <td>30.5</td>\n",
       "      <td>0.158</td>\n",
       "      <td>53</td>\n",
       "      <td>1</td>\n",
       "      <td>2</td>\n",
       "      <td>197</td>\n",
       "      <td>70</td>\n",
       "      <td>45</td>\n",
       "      <td>543</td>\n",
       "      <td>30.5</td>\n",
       "      <td>0.158</td>\n",
       "      <td>53</td>\n",
       "      <td>1</td>\n",
       "    </tr>\n",
       "    <tr>\n",
       "      <th>10</th>\n",
       "      <td>8</td>\n",
       "      <td>125</td>\n",
       "      <td>96</td>\n",
       "      <td>0</td>\n",
       "      <td>0</td>\n",
       "      <td>0.0</td>\n",
       "      <td>0.232</td>\n",
       "      <td>54</td>\n",
       "      <td>1</td>\n",
       "      <td>8</td>\n",
       "      <td>125</td>\n",
       "      <td>96</td>\n",
       "      <td>0</td>\n",
       "      <td>0</td>\n",
       "      <td>0.0</td>\n",
       "      <td>0.232</td>\n",
       "      <td>54</td>\n",
       "      <td>1</td>\n",
       "    </tr>\n",
       "  </tbody>\n",
       "</table>\n",
       "</div>"
      ],
      "text/plain": [
       "    preg  plas  pres  skin  prueba  mass   pedi  edad  class  preg  plas  \\\n",
       "E      0   137    40    35     168  43.1  2.288    33      1     0   137   \n",
       "6      5   116    74     0       0  25.6  0.201    30      0     5   116   \n",
       "7      3    78    50    32      88  31.0  0.248    26      1     3    78   \n",
       "8     10   115     0     0       0  35.3  0.134    29      0    10   115   \n",
       "9      2   197    70    45     543  30.5  0.158    53      1     2   197   \n",
       "10     8   125    96     0       0   0.0  0.232    54      1     8   125   \n",
       "\n",
       "    pres  skin  prueba  mass   pedi  edad  class  \n",
       "E     40    35     168  43.1  2.288    33      1  \n",
       "6     74     0       0  25.6  0.201    30      0  \n",
       "7     50    32      88  31.0  0.248    26      1  \n",
       "8      0     0       0  35.3  0.134    29      0  \n",
       "9     70    45     543  30.5  0.158    53      1  \n",
       "10    96     0       0   0.0  0.232    54      1  "
      ]
     },
     "execution_count": 12,
     "metadata": {},
     "output_type": "execute_result"
    }
   ],
   "source": [
    "import pandas as pd\n",
    "id = [i for i in range(1, 2*data.shape[0]+1)]\n",
    "E = pd.concat([data, data], axis=0) # concatenate DataFrames along rows\n",
    "E.index = id\n",
    "print(E)\n",
    "F = pd.concat([data, data], axis=1) # concatenate DataFrames along columns\n",
    "F"
   ]
  },
  {
   "cell_type": "markdown",
   "metadata": {},
   "source": [
    "# Merge"
   ]
  },
  {
   "cell_type": "code",
   "execution_count": 13,
   "metadata": {},
   "outputs": [
    {
     "name": "stdout",
     "output_type": "stream",
     "text": [
      "    preg  plas  pres  skin  prueba  mass   pedi  edad  class\n",
      "E      0   137    40    35     168  43.1  2.288    33      1\n",
      "6      5   116    74     0       0  25.6  0.201    30      0\n",
      "7      3    78    50    32      88  31.0  0.248    26      1\n",
      "8     10   115     0     0       0  35.3  0.134    29      0\n",
      "9      2   197    70    45     543  30.5  0.158    53      1\n",
      "10     8   125    96     0       0   0.0  0.232    54      1\n",
      "   preg  plas  pres  skin  prueba  mass   pedi  edad  class\n",
      "8    10   115     0     0       0  35.3  0.134    29      0\n",
      "6     5   116    74     0       0  25.6  0.201    30      0\n",
      "   preg  plas  pres  skin  prueba  mass   pedi  edad  class\n",
      "0     5   116    74     0       0  25.6  0.201    30      0\n",
      "1    10   115     0     0       0  35.3  0.134    29      0\n",
      "    preg  plas  pres  skin  prueba  mass   pedi  edad  class  preg   plas  \\\n",
      "E      0   137    40    35     168  43.1  2.288    33      1   NaN    NaN   \n",
      "6      5   116    74     0       0  25.6  0.201    30      0   5.0  116.0   \n",
      "7      3    78    50    32      88  31.0  0.248    26      1   NaN    NaN   \n",
      "8     10   115     0     0       0  35.3  0.134    29      0  10.0  115.0   \n",
      "9      2   197    70    45     543  30.5  0.158    53      1   NaN    NaN   \n",
      "10     8   125    96     0       0   0.0  0.232    54      1   NaN    NaN   \n",
      "\n",
      "    pres  skin  prueba  mass   pedi  edad  class  \n",
      "E    NaN   NaN     NaN   NaN    NaN   NaN    NaN  \n",
      "6   74.0   0.0     0.0  25.6  0.201  30.0    0.0  \n",
      "7    NaN   NaN     NaN   NaN    NaN   NaN    NaN  \n",
      "8    0.0   0.0     0.0  35.3  0.134  29.0    0.0  \n",
      "9    NaN   NaN     NaN   NaN    NaN   NaN    NaN  \n",
      "10   NaN   NaN     NaN   NaN    NaN   NaN    NaN  \n"
     ]
    },
    {
     "name": "stderr",
     "output_type": "stream",
     "text": [
      "/anaconda3/lib/python3.7/site-packages/ipykernel_launcher.py:6: FutureWarning: Sorting because non-concatenation axis is not aligned. A future version\n",
      "of pandas will change to not sort by default.\n",
      "\n",
      "To accept the future behavior, pass 'sort=False'.\n",
      "\n",
      "To retain the current behavior and silence the warning, pass 'sort=True'.\n",
      "\n",
      "  \n"
     ]
    }
   ],
   "source": [
    "print(data)\n",
    "data2 = data.sample(frac=0.3)\n",
    "print(data2)\n",
    "data3 = pd.merge(data, data2)\n",
    "print(data3)\n",
    "data4 = pd.concat([data, data2], axis=1)\n",
    "print(data4)"
   ]
  },
  {
   "cell_type": "markdown",
   "metadata": {},
   "source": [
    "# Sort Data Frames"
   ]
  },
  {
   "cell_type": "code",
   "execution_count": 22,
   "metadata": {},
   "outputs": [
    {
     "name": "stdout",
     "output_type": "stream",
     "text": [
      "    preg  plas  pres  skin  prueba  mass   pedi  edad  class\n",
      "E      0   137    40    35     168  43.1  2.288    33      1\n",
      "6      5   116    74     0       0  25.6  0.201    30      0\n",
      "7      3    78    50    32      88  31.0  0.248    26      1\n",
      "8     10   115     0     0       0  35.3  0.134    29      0\n",
      "9      2   197    70    45     543  30.5  0.158    53      1\n",
      "10     8   125    96     0       0   0.0  0.232    54      1\n"
     ]
    },
    {
     "data": {
      "text/html": [
       "<div>\n",
       "<style scoped>\n",
       "    .dataframe tbody tr th:only-of-type {\n",
       "        vertical-align: middle;\n",
       "    }\n",
       "\n",
       "    .dataframe tbody tr th {\n",
       "        vertical-align: top;\n",
       "    }\n",
       "\n",
       "    .dataframe thead th {\n",
       "        text-align: right;\n",
       "    }\n",
       "</style>\n",
       "<table border=\"1\" class=\"dataframe\">\n",
       "  <thead>\n",
       "    <tr style=\"text-align: right;\">\n",
       "      <th></th>\n",
       "      <th>preg</th>\n",
       "      <th>plas</th>\n",
       "      <th>pres</th>\n",
       "      <th>skin</th>\n",
       "      <th>prueba</th>\n",
       "      <th>mass</th>\n",
       "      <th>pedi</th>\n",
       "      <th>edad</th>\n",
       "      <th>class</th>\n",
       "    </tr>\n",
       "  </thead>\n",
       "  <tbody>\n",
       "    <tr>\n",
       "      <th>7</th>\n",
       "      <td>3</td>\n",
       "      <td>78</td>\n",
       "      <td>50</td>\n",
       "      <td>32</td>\n",
       "      <td>88</td>\n",
       "      <td>31.0</td>\n",
       "      <td>0.248</td>\n",
       "      <td>26</td>\n",
       "      <td>1</td>\n",
       "    </tr>\n",
       "    <tr>\n",
       "      <th>8</th>\n",
       "      <td>10</td>\n",
       "      <td>115</td>\n",
       "      <td>0</td>\n",
       "      <td>0</td>\n",
       "      <td>0</td>\n",
       "      <td>35.3</td>\n",
       "      <td>0.134</td>\n",
       "      <td>29</td>\n",
       "      <td>0</td>\n",
       "    </tr>\n",
       "    <tr>\n",
       "      <th>6</th>\n",
       "      <td>5</td>\n",
       "      <td>116</td>\n",
       "      <td>74</td>\n",
       "      <td>0</td>\n",
       "      <td>0</td>\n",
       "      <td>25.6</td>\n",
       "      <td>0.201</td>\n",
       "      <td>30</td>\n",
       "      <td>0</td>\n",
       "    </tr>\n",
       "    <tr>\n",
       "      <th>E</th>\n",
       "      <td>0</td>\n",
       "      <td>137</td>\n",
       "      <td>40</td>\n",
       "      <td>35</td>\n",
       "      <td>168</td>\n",
       "      <td>43.1</td>\n",
       "      <td>2.288</td>\n",
       "      <td>33</td>\n",
       "      <td>1</td>\n",
       "    </tr>\n",
       "    <tr>\n",
       "      <th>9</th>\n",
       "      <td>2</td>\n",
       "      <td>197</td>\n",
       "      <td>70</td>\n",
       "      <td>45</td>\n",
       "      <td>543</td>\n",
       "      <td>30.5</td>\n",
       "      <td>0.158</td>\n",
       "      <td>53</td>\n",
       "      <td>1</td>\n",
       "    </tr>\n",
       "    <tr>\n",
       "      <th>10</th>\n",
       "      <td>8</td>\n",
       "      <td>125</td>\n",
       "      <td>96</td>\n",
       "      <td>0</td>\n",
       "      <td>0</td>\n",
       "      <td>0.0</td>\n",
       "      <td>0.232</td>\n",
       "      <td>54</td>\n",
       "      <td>1</td>\n",
       "    </tr>\n",
       "  </tbody>\n",
       "</table>\n",
       "</div>"
      ],
      "text/plain": [
       "    preg  plas  pres  skin  prueba  mass   pedi  edad  class\n",
       "7      3    78    50    32      88  31.0  0.248    26      1\n",
       "8     10   115     0     0       0  35.3  0.134    29      0\n",
       "6      5   116    74     0       0  25.6  0.201    30      0\n",
       "E      0   137    40    35     168  43.1  2.288    33      1\n",
       "9      2   197    70    45     543  30.5  0.158    53      1\n",
       "10     8   125    96     0       0   0.0  0.232    54      1"
      ]
     },
     "execution_count": 22,
     "metadata": {},
     "output_type": "execute_result"
    }
   ],
   "source": [
    "import pandas as pd\n",
    "\n",
    "df = pd.DataFrame({\n",
    "     'col1': ['A', 'A', 'B', np.nan, 'D', 'C'],\n",
    "     'col2': [2, 1, 9, 8, 7, 4],\n",
    "     'col3': [0, 1, 9, 4, 2, 3],\n",
    "})\n",
    "\n",
    "df\n",
    "\n",
    "df.sort_values(by='col1', ascending=True, na_position='first')\n",
    "df.sort_values(by='col1', ascending=True, na_position='last')\n",
    "\n",
    "print(data)\n",
    "#\n",
    "data.sort_values(by=['edad'], ascending=True)\n",
    "data.sort_values(by=['edad', 'pres'], ascending=True)"
   ]
  },
  {
   "cell_type": "markdown",
   "metadata": {},
   "source": [
    "# Time series"
   ]
  },
  {
   "cell_type": "code",
   "execution_count": 58,
   "metadata": {},
   "outputs": [
    {
     "name": "stdout",
     "output_type": "stream",
     "text": [
      "(166560,)\n",
      "                      price\n",
      "2000-01-01 00:00:00   46.28\n",
      "2000-01-01 01:00:00   32.28\n",
      "2000-01-01 02:00:00   32.28\n",
      "2000-01-01 03:00:00   32.28\n",
      "2000-01-01 04:00:00   32.28\n",
      "2000-01-01 05:00:00   32.28\n",
      "2000-01-01 06:00:00   32.28\n",
      "2000-01-01 07:00:00   32.28\n",
      "2000-01-01 08:00:00   32.28\n",
      "2000-01-01 09:00:00   32.28\n",
      "2000-01-01 10:00:00   32.28\n",
      "2000-01-01 11:00:00   32.28\n",
      "2000-01-01 12:00:00   32.28\n",
      "2000-01-01 13:00:00   32.28\n",
      "2000-01-01 14:00:00   32.28\n",
      "2000-01-01 15:00:00   32.28\n",
      "2000-01-01 16:00:00   32.28\n",
      "2000-01-01 17:00:00   32.28\n",
      "2000-01-01 18:00:00   32.28\n",
      "2000-01-01 19:00:00   32.28\n",
      "2000-01-01 20:00:00   32.28\n",
      "2000-01-01 21:00:00   32.28\n",
      "2000-01-01 22:00:00   32.28\n",
      "2000-01-01 23:00:00   32.28\n",
      "2000-01-02 00:00:00   32.28\n",
      "2000-01-02 01:00:00   32.28\n",
      "2000-01-02 02:00:00   32.28\n",
      "2000-01-02 03:00:00   32.28\n",
      "2000-01-02 04:00:00   32.28\n",
      "2000-01-02 05:00:00   32.28\n",
      "...                     ...\n",
      "2018-12-30 18:00:00  353.93\n",
      "2018-12-30 19:00:00  353.93\n",
      "2018-12-30 20:00:00  353.93\n",
      "2018-12-30 21:00:00  353.93\n",
      "2018-12-30 22:00:00  333.93\n",
      "2018-12-30 23:00:00  333.93\n",
      "2018-12-31 00:00:00  333.92\n",
      "2018-12-31 01:00:00  302.92\n",
      "2018-12-31 02:00:00  302.92\n",
      "2018-12-31 03:00:00  302.92\n",
      "2018-12-31 04:00:00  302.92\n",
      "2018-12-31 05:00:00  302.92\n",
      "2018-12-31 06:00:00  253.92\n",
      "2018-12-31 07:00:00  302.92\n",
      "2018-12-31 08:00:00  333.92\n",
      "2018-12-31 09:00:00  333.92\n",
      "2018-12-31 10:00:00  394.92\n",
      "2018-12-31 11:00:00  383.92\n",
      "2018-12-31 12:00:00  383.92\n",
      "2018-12-31 13:00:00  383.92\n",
      "2018-12-31 14:00:00  383.92\n",
      "2018-12-31 15:00:00  394.92\n",
      "2018-12-31 16:00:00  333.92\n",
      "2018-12-31 17:00:00  333.92\n",
      "2018-12-31 18:00:00  383.92\n",
      "2018-12-31 19:00:00  383.92\n",
      "2018-12-31 20:00:00  383.92\n",
      "2018-12-31 21:00:00  383.92\n",
      "2018-12-31 22:00:00  333.92\n",
      "2018-12-31 23:00:00  333.92\n",
      "\n",
      "[166560 rows x 1 columns]\n"
     ]
    },
    {
     "data": {
      "text/plain": [
       "<function matplotlib.pyplot.show(*args, **kw)>"
      ]
     },
     "execution_count": 58,
     "metadata": {},
     "output_type": "execute_result"
    },
    {
     "data": {
      "image/png": "[encoded data removed]",
      "text/plain": [
       "<Figure size 432x288 with 1 Axes>"
      ]
     },
     "metadata": {
      "needs_background": "light"
     },
     "output_type": "display_data"
    }
   ],
   "source": [
    "import pandas as pd\n",
    "import numpy as np\n",
    "\n",
    "data = pd.read_csv('price.csv', sep = '\\t', squeeze=True)\n",
    "p = data.values\n",
    "index = pd.date_range('2000-01-01', periods=len(data), freq='H')\n",
    "#print(p)\n",
    "\n",
    "start = np.datetime64('2000-01-01T00:00:00')\n",
    "end   = np.datetime64('2019-01-01T00:00:00')\n",
    "t = np.arange(start, end, dtype='datetime64[h]')\n",
    "\n",
    "print(t.shape)\n",
    "\n",
    "price = pd.DataFrame({'price':p}, index=t)\n",
    "#price = pd.DataFrame(data)\n",
    "#price.reindex(index)\n",
    "print(price)\n",
    "\n",
    "import matplotlib.pyplot as mpl\n",
    "\n",
    "mpl.plot(price, label='price')\n",
    "mpl.plot(t,p, label='p')\n",
    "mpl.title('Hourly spot electricity price')\n",
    "mpl.ylabel('COL/kWh')\n",
    "mpl.xlabel('Time')\n",
    "mpl.legend(loc='upper left',)\n",
    "mpl.show"
   ]
  },
  {
   "cell_type": "markdown",
   "metadata": {},
   "source": [
    "# for loop and a range"
   ]
  },
  {
   "cell_type": "code",
   "execution_count": null,
   "metadata": {},
   "outputs": [],
   "source": [
    "# Python cares about space!  No curly braces.\n",
    "for x in range(1, 10):  # If you ever see xrange, you are in Python 2. Notice the colon (:) at the end of the line\n",
    "    print(x)            # Note the tab intend for the code"
   ]
  },
  {
   "cell_type": "markdown",
   "metadata": {},
   "source": [
    "# Numbers and strings"
   ]
  },
  {
   "cell_type": "code",
   "execution_count": 130,
   "metadata": {},
   "outputs": [
    {
     "name": "stdout",
     "output_type": "stream",
     "text": [
      "Adding 1, sum so far is 1\n",
      "Adding 2, sum so far is 3\n",
      "Adding 3, sum so far is 6\n",
      "Adding 4, sum so far is 10\n",
      "Adding 5, sum so far is 15\n",
      "Adding 6, sum so far is 21\n",
      "Adding 7, sum so far is 28\n",
      "Adding 8, sum so far is 36\n",
      "Adding 9, sum so far is 45\n",
      "Final sum: 45\n"
     ]
    }
   ],
   "source": [
    "acc = 0\n",
    "for x in range(1, 10):\n",
    "    acc += x\n",
    "    print(f\"Adding {x}, sum so far is {acc}\")\n",
    "print(f\"Final sum: {acc}\")"
   ]
  },
  {
   "cell_type": "markdown",
   "metadata": {},
   "source": [
    "# If-Then-Else conditional"
   ]
  },
  {
   "cell_type": "code",
   "execution_count": null,
   "metadata": {},
   "outputs": [],
   "source": [
    "value = 99\n",
    "if value == 99:\n",
    "    print('That is fast')\n",
    "elif value > 200:\n",
    "    print('That is too fast')\n",
    "else:\n",
    "    print('That is safe')"
   ]
  },
  {
   "cell_type": "markdown",
   "metadata": {},
   "source": [
    "# Sequences"
   ]
  },
  {
   "cell_type": "code",
   "execution_count": 72,
   "metadata": {},
   "outputs": [
    {
     "name": "stdout",
     "output_type": "stream",
     "text": [
      "[0, 1, 2, 3, 4, 5, 6, 7, 8, 9, 10, 11, 12, 13, 14, 15, 16, 17, 18, 19]\n",
      "[1, 2, 3, 4, 5, 6, 7, 8, 9, 10, 11, 12, 13, 14, 15, 16, 17, 18, 19, 20]\n",
      "0      1\n",
      "1      2\n",
      "2      3\n",
      "3      4\n",
      "4      5\n",
      "5      6\n",
      "6      7\n",
      "7      8\n",
      "8      9\n",
      "9     10\n",
      "10    11\n",
      "11    12\n",
      "12    13\n",
      "13    14\n",
      "14    15\n",
      "15    16\n",
      "16    17\n",
      "17    18\n",
      "18    19\n",
      "19    20\n",
      "dtype: int64\n"
     ]
    }
   ],
   "source": [
    "# Sequences in Python are zero-indexed\n",
    "seq = [i for i in range(20)]\n",
    "print(seq)\n",
    "seq = [i+1 for i in range(20)]\n",
    "print(seq)\n",
    "type(seq)\n",
    "d = pd.Series(seq)\n",
    "print(d)"
   ]
  },
  {
   "cell_type": "markdown",
   "metadata": {},
   "source": [
    "#  Extract a subset of a sequence"
   ]
  },
  {
   "cell_type": "code",
   "execution_count": 31,
   "metadata": {},
   "outputs": [
    {
     "data": {
      "text/plain": [
       "0      1\n",
       "3      4\n",
       "6      7\n",
       "9     10\n",
       "12    13\n",
       "15    16\n",
       "18    19\n",
       "dtype: int64"
      ]
     },
     "execution_count": 31,
     "metadata": {},
     "output_type": "execute_result"
    }
   ],
   "source": [
    "# seq[start:end:increment] \n",
    "seq[1]        # evaluate at [1]\n",
    "seq[2:10]     # evaluate from 2 to 10 (endpoints aren't included)\n",
    "seq[2:10:2]   # evaluate from 2 to 8 by 2\n",
    "seq[:4]       # evaluate at the first 4 elements of the list\n",
    "seq[-2:]      # evaluate at the last two elements\n",
    "seq[:]        # evaluate at all elements of the list (an exact copy of seq)\n",
    "seq[::3]      # evaluate every third element"
   ]
  },
  {
   "cell_type": "markdown",
   "metadata": {},
   "source": [
    "# Concatenation"
   ]
  },
  {
   "cell_type": "code",
   "execution_count": null,
   "metadata": {},
   "outputs": [],
   "source": [
    "[1,2,3]+[4,5]"
   ]
  },
  {
   "cell_type": "markdown",
   "metadata": {},
   "source": [
    "# Functions"
   ]
  },
  {
   "cell_type": "code",
   "execution_count": null,
   "metadata": {},
   "outputs": [],
   "source": [
    "# Sum function\n",
    "def mysum(x, y):\n",
    "    return x + y\n",
    "# Test sum function\n",
    "result = mysum(1, 3)\n",
    "print(result)"
   ]
  },
  {
   "cell_type": "markdown",
   "metadata": {},
   "source": [
    "# Random sampling and pseudo random numbers\n",
    "See https://docs.python.org/dev/library/random.html#random.random"
   ]
  },
  {
   "cell_type": "code",
   "execution_count": 107,
   "metadata": {},
   "outputs": [
    {
     "name": "stdout",
     "output_type": "stream",
     "text": [
      "[1, 2, 3, 4, 5, 6, 7, 8, 9, 10, 11, 12, 13, 14, 15, 16, 17, 18, 19, 20]\n",
      "[13, 15, 13]\n",
      "['E', 'F', 'B']\n",
      "0.4009873829179496\n",
      "-1.202667528909017\n",
      "-1.0917025418601858\n",
      "0.06456176909713618\n",
      "-0.37603387041004366\n",
      "-2.4714443233547057\n",
      "-2.911049523498257\n",
      "-1.3615508902708657\n",
      "0.11778061426128511\n",
      "-0.9927358931156982\n",
      "2.2794161221531066\n",
      "2.175599199741038\n",
      "2.6687278552635454\n",
      "2.692818776029347\n",
      "2.23358452032889\n",
      "1.2695376306559925\n",
      "2.6029673301194776\n",
      "0.5476167796493696\n",
      "1.6929895197041147\n",
      "2.2575082101300987\n"
     ]
    },
    {
     "data": {
      "text/plain": [
       "pandas.core.series.Series"
      ]
     },
     "execution_count": 107,
     "metadata": {},
     "output_type": "execute_result"
    }
   ],
   "source": [
    "import random\n",
    "\n",
    "#random.seed(123)              # initialize the random number generator\n",
    "random.sample(range(10), k=6)  # sampling (without replacement) k length list of unique elements chosen from the population sequence or set\n",
    "random.sample({'a','b','c','d','e'}, k=1)\n",
    "\n",
    "# make random choices with replacement\n",
    "seq = [i+1 for i in range(20)]\n",
    "print(seq)\n",
    "print(random.choices(seq, k=3))\n",
    "\n",
    "letters = [\"A\", \"B\", \"C\", \"D\", \"E\", \"F\", \"G\"]\n",
    "print(random.choices(letters, k=3))\n",
    "\n",
    "# Pseudo random numbers\n",
    "#random.gauss(mu=0,sigma=1)\n",
    "# sample of random Gaussian numbers\n",
    "for i in range(10):\n",
    "    value = random.gauss(mu=0, sigma=1)\n",
    "    print(value)\n",
    "\n",
    "#random.uniform(a=0, b=3)\n",
    "# sample of random uniform numbers between a <= x < b\n",
    "for i in range(10):\n",
    "    value = random.uniform(a=0, b=3)\n",
    "    print(value)\n"
   ]
  },
  {
   "cell_type": "markdown",
   "metadata": {},
   "source": [
    "# Statistical functions\n",
    "Complete list at https://docs.python.org/3.7/library/statistics.html\n",
    "    \n",
    "Let $X_1,\\ldots,X_n$ be an independent and identically distributed (i.i.d.) random sample from distribution function $F(x)=\\mathbb{P}(X\\leq x)$.\n",
    "    \n",
    "    \n",
    "* Sample mean\n",
    "\n",
    "$$\\bar{X} = \\frac{1}{n}\\sum_{i=1}^{n}X_i$$\n",
    "\n",
    "* Sample median\n",
    "\n",
    "$$\\mathrm{Med}(X_1,\\ldots,X_n) =\n",
    "\\begin{cases}\n",
    "\\frac{1}{2}(X_{n/2:n}+X_{n/2+1:n}),&n\\ \\mathrm{even}\\\\\n",
    "X_{(n+1)/2:n},&n\\ \\mathrm{odd}\n",
    "\\end{cases}\n",
    "$$\n",
    "\n",
    "* Sample variance\n",
    "\n",
    "$$\\widehat{\\mathrm{Var}(X)}= S^2 = \\frac{1}{n-1}\\sum_{i=1}^{n}\\left(X_i - \\bar{X}\\right)^2$$\n",
    "\n",
    "* Sample standar deviation\n",
    "\n",
    "$$\\sqrt{\\widehat{\\mathrm{Var}(X)}}=S=\\sqrt{S^2}$$\n",
    "\n",
    "* Minimum\n",
    "\n",
    "$$\\min \\left\\lbrace X_1,\\ldots,X_n\\right\\rbrace$$\n",
    "\n",
    "* Maximum\n",
    "\n",
    "$$\\max \\left\\lbrace X_1,\\ldots,X_n\\right\\rbrace$$\n",
    "\n",
    "* Quantile\n",
    "\n",
    "$$q(\\alpha)=F^{-1}(\\alpha)=\\inf \\left\\{x\\in\\mathbb{R}\\colon F(x)\\geq \\alpha \\right\\},\\quad 0\\leq\\alpha\\leq1.$$\n",
    "\n",
    "* Sample covariance\n",
    "\n",
    "$$\n",
    "\\widehat{\\mathrm{Cov}(X,Y)}=\\frac{1}{n-1}\\sum_{i=1}^{n}\\left(X_i-\\bar{X}\\right)\\left(Y_i-\\bar{Y}\\right)\n",
    "$$\n",
    "\n",
    "* Sample correlation\n",
    "\n",
    "$$\\widehat{\\mathrm{Corr}(X,Y)}=\\frac{\\widehat{\\mathrm{Cov}(X,Y)}}{\\sqrt{\\widehat{\\mathrm{Var}(X)}}\\sqrt{\\widehat{\\mathrm{Var}(Y)}}}=\\frac{\\sum_{i=i}^{n}\\left(X_i-\\bar{X}\\right)\\left(Y_i-\\bar{Y}\\right)}{\\sqrt{\\sum_{i=n}^{n}\\left(X_{i}-\\bar{X}\\right)^{2}}\\sqrt{\\sum_{i=n}^{n}\\left(Y_{i}-\\bar{Y}\\right)^{2}}}$$\n",
    "\n"
   ]
  },
  {
   "cell_type": "code",
   "execution_count": 128,
   "metadata": {},
   "outputs": [
    {
     "data": {
      "text/plain": [
       "0.045453759790961855"
      ]
     },
     "execution_count": 128,
     "metadata": {},
     "output_type": "execute_result"
    }
   ],
   "source": [
    "d = pd.Series([random.gauss(mu=0, sigma=1) for i in range(1000)])\n",
    "\n",
    "d = np.random.randn(1000)\n",
    "\n",
    "#from matplotlib import pyplot\n",
    "#pyplot.hist(d)\n",
    "#pyplot.show()\n",
    "\n",
    "d.mean()\n",
    "#d.median()\n",
    "#d.var()\n",
    "#d.std()\n",
    "#d.quantile([0, 0.25, 0.5, 0.75, 1]) # Quartiles\n",
    "#d.describe()"
   ]
  },
  {
   "cell_type": "code",
   "execution_count": 129,
   "metadata": {},
   "outputs": [
    {
     "data": {
      "text/plain": [
       "0.04545375979096185"
      ]
     },
     "execution_count": 129,
     "metadata": {},
     "output_type": "execute_result"
    }
   ],
   "source": [
    "import statistics\n",
    "statistics.mean(d)      # aritmetic mean\n",
    "#statistics.median(d)    # median\n",
    "##statistics.mode(d)     # mode\n",
    "#statistics.variance(d)  # variance\n",
    "#statistics.stdev(d)     # standar deviation\n",
    "#min(d)                  # minimum\n",
    "#max(d)                  # maximum"
   ]
  },
  {
   "cell_type": "code",
   "execution_count": 124,
   "metadata": {},
   "outputs": [
    {
     "data": {
      "text/plain": [
       "-0.014971796516118548"
      ]
     },
     "execution_count": 124,
     "metadata": {},
     "output_type": "execute_result"
    }
   ],
   "source": [
    "# Also (see https://docs.scipy.org/doc/numpy/reference/routines.statistics.html)\n",
    "import numpy as np\n",
    "np.mean(d)\n",
    "#np.median(d)\n",
    "#np.var(d)\n",
    "#np.std(d)\n",
    "#np.amin(d)\n",
    "#np.amax(d)\n",
    "#np.quantile(d, [0, 0.25, 0.5, 0.75, 1])\n",
    "#np.cov(d,d)      # covariance matrix\n",
    "#np.corrcoef(d,d) # correlation matrix"
   ]
  },
  {
   "cell_type": "markdown",
   "metadata": {},
   "source": [
    "# Mathematical functions\n",
    "Complete list at https://docs.python.org/3.7/library/math.html"
   ]
  },
  {
   "cell_type": "code",
   "execution_count": 116,
   "metadata": {},
   "outputs": [
    {
     "name": "stdout",
     "output_type": "stream",
     "text": [
      "[1, 2, 3, 4, 5, 6, 7, 8, 9, 10, 11, 12, 13, 14, 15, 16, 17, 18, 19, 20]\n"
     ]
    },
    {
     "ename": "NameError",
     "evalue": "name 'numpy' is not defined",
     "output_type": "error",
     "traceback": [
      "\u001b[0;31m---------------------------------------------------------------------------\u001b[0m",
      "\u001b[0;31mNameError\u001b[0m                                 Traceback (most recent call last)",
      "\u001b[0;32m<ipython-input-116-07fd0543cd19>\u001b[0m in \u001b[0;36m<module>\u001b[0;34m()\u001b[0m\n\u001b[1;32m     34\u001b[0m \u001b[0;32mimport\u001b[0m \u001b[0mnumpy\u001b[0m \u001b[0;32mas\u001b[0m \u001b[0mnp\u001b[0m\u001b[0;34m\u001b[0m\u001b[0m\n\u001b[1;32m     35\u001b[0m \u001b[0;34m\u001b[0m\u001b[0m\n\u001b[0;32m---> 36\u001b[0;31m \u001b[0mnumpy\u001b[0m\u001b[0;34m.\u001b[0m\u001b[0mpi\u001b[0m\u001b[0;34m\u001b[0m\u001b[0m\n\u001b[0m\u001b[1;32m     37\u001b[0m \u001b[0mnp\u001b[0m\u001b[0;34m.\u001b[0m\u001b[0msort\u001b[0m\u001b[0;34m(\u001b[0m\u001b[0md\u001b[0m\u001b[0;34m)\u001b[0m\u001b[0;34m\u001b[0m\u001b[0m\n\u001b[1;32m     38\u001b[0m \u001b[0;34m\u001b[0m\u001b[0m\n",
      "\u001b[0;31mNameError\u001b[0m: name 'numpy' is not defined"
     ]
    }
   ],
   "source": [
    "round(2.71, 2) # rounds x to n digits\n",
    "min(seq)       # smallest item of s\n",
    "max(seq)       # largest item of s\n",
    "seq.count(2)   # total number of occurrences of x in s\n",
    "\n",
    "import math    # https://docs.python.org/3/library/math.html\n",
    "x = 9\n",
    "math.fabs(-x)  # absolute value . Also abs(-x)\n",
    "math.sqrt(x)   # square root\n",
    "math.e         # e = 2.718281...\n",
    "math.pi        # \\pi = 3.141592...\n",
    "math.exp(x)    # exp(x) equivalent to math.e**x\n",
    "math.log(x)    # log_e(x)\n",
    "math.pow(x, 9) # x**9#\n",
    "\n",
    "math.cos(x)    # cosine\n",
    "math.sin(x)    # sine\n",
    "math.tan(x)    # tangent\n",
    "\n",
    "math.radians(30) # Converts angle x from degrees to radians\n",
    "math.degrees(math.radians(30))  # Converts angle x from radians to degrees\n",
    "\n",
    "math.ceil(math.e)     # ceiling of x, the smallest integer greater than or equal to x\n",
    "math.floor(math.e)    # floor of x, the largest integer less than or equal to x\n",
    "math.factorial(3)     # n-factorial\n",
    "math.fsum(seq)        # sum . Also sum(seq)\n",
    "\n",
    "\n",
    "d = pd.Series(seq)\n",
    "print(seq)\n",
    "d.cumsum()\n",
    "\n",
    "\n",
    "import numpy as np\n",
    "\n",
    "numpy.pi\n",
    "np.sort(d)\n",
    "\n",
    "np.sin(x)\n",
    "np.cos(x)\n",
    "np.tan(x)\n",
    "\n",
    "np.round(np.tan(x), 2)\n",
    "np.ceil(math.e)     # ceiling of x, the smallest integer greater than or equal to x\n",
    "np.floor(math.e)\n",
    "\n",
    "np.sum(d)\n",
    "np.cumsum(d)\n",
    "np.cumprod(d)\n",
    "\n",
    "numpy.pi\n",
    "numpy.e\n",
    "np.exp(x)\n",
    "np.log(x)\n",
    "\n"
   ]
  },
  {
   "cell_type": "markdown",
   "metadata": {},
   "source": [
    "# Histograms"
   ]
  },
  {
   "cell_type": "code",
   "execution_count": 5,
   "metadata": {
    "scrolled": false
   },
   "outputs": [
    {
     "data": {
      "text/plain": [
       "(array([6.07759702e-05, 2.83621194e-04, 1.39784731e-03, 5.61164791e-03,\n",
       "        1.96306384e-02, 5.22470757e-02, 1.17520468e-01, 2.10264598e-01,\n",
       "        3.06351407e-01, 3.63035128e-01, 3.50434244e-01, 2.74221177e-01,\n",
       "        1.75500743e-01, 9.33518902e-02, 3.79849814e-02, 1.29857990e-02,\n",
       "        4.05173134e-03, 7.49570299e-04, 1.41810597e-04, 4.05173134e-05]),\n",
       " array([ 0.15026293,  0.64387908,  1.13749522,  1.63111136,  2.12472751,\n",
       "         2.61834365,  3.11195979,  3.60557594,  4.09919208,  4.59280822,\n",
       "         5.08642437,  5.58004051,  6.07365665,  6.5672728 ,  7.06088894,\n",
       "         7.55450508,  8.04812123,  8.54173737,  9.03535351,  9.52896966,\n",
       "        10.0225858 ]),\n",
       " <a list of 20 Patch objects>)"
      ]
     },
     "execution_count": 5,
     "metadata": {},
     "output_type": "execute_result"
    },
    {
     "name": "stderr",
     "output_type": "stream",
     "text": [
      "/anaconda3/lib/python3.7/site-packages/matplotlib/figure.py:2366: UserWarning: This figure includes Axes that are not compatible with tight_layout, so results might be incorrect.\n",
      "  warnings.warn(\"This figure includes Axes that are not compatible \"\n"
     ]
    },
    {
     "data": {
      "image/png": "[encoded data removed]",
      "text/plain": [
       "<Figure size 432x288 with 2 Axes>"
      ]
     },
     "metadata": {
      "needs_background": "light"
     },
     "output_type": "display_data"
    }
   ],
   "source": [
    "import matplotlib.pyplot as plt\n",
    "import numpy as np\n",
    "from matplotlib import colors\n",
    "from matplotlib.ticker import PercentFormatter\n",
    "\n",
    "# Fixing random state for reproducibility\n",
    "np.random.seed(19680801)\n",
    "\n",
    "N = 100000\n",
    "bins = 20\n",
    "\n",
    "# Generate a normal distribution, center at x=0 and y=5\n",
    "x = np.random.randn(N)\n",
    "y = .4 * x + np.random.randn(100000) + 5\n",
    "\n",
    "fig, axs = plt.subplots(1, 2, sharey=True, tight_layout=True)\n",
    "\n",
    "# We can set the number of bins with the `bins` kwarg\n",
    "axs[0].hist(x, bins=bins, density=True)\n",
    "axs[1].hist(y, bins=bins, density=True)"
   ]
  },
  {
   "cell_type": "code",
   "execution_count": 4,
   "metadata": {},
   "outputs": [
    {
     "data": {
      "text/plain": [
       "[<matplotlib.patches.Polygon at 0x1a1df79048>]"
      ]
     },
     "execution_count": 4,
     "metadata": {},
     "output_type": "execute_result"
    },
    {
     "data": {
      "image/png": "[encoded data removed]",
      "text/plain": [
       "<Figure size 432x288 with 1 Axes>"
      ]
     },
     "metadata": {
      "needs_background": "light"
     },
     "output_type": "display_data"
    },
    {
     "data": {
      "image/png": "[encoded data removed]",
      "text/plain": [
       "<Figure size 432x288 with 1 Axes>"
      ]
     },
     "metadata": {
      "needs_background": "light"
     },
     "output_type": "display_data"
    }
   ],
   "source": [
    "import numpy as np\n",
    "import matplotlib.pyplot as plt\n",
    "\n",
    "# Fixing random state for reproducibility\n",
    "np.random.seed(19680801)\n",
    "\n",
    "mu, sigma = 100, 15\n",
    "x = mu + sigma * np.random.randn(10000)\n",
    "\n",
    "# the histogram of the data\n",
    "#n, bins, patches = \n",
    "plt.hist(x, 50, density=True, cumulative=False, facecolor='gray', alpha=0.7)\n",
    "plt.xlabel('Smarts')\n",
    "plt.ylabel('Probability')\n",
    "plt.title('Histogram of IQ')\n",
    "plt.text(45, .027, r'$\\mu=100,\\ \\sigma=15$')\n",
    "plt.xlim(40, 160)\n",
    "plt.ylim(0, 0.03)\n",
    "plt.grid(False)\n",
    "\n",
    "a = np.concatenate((x[0:5000,],\n",
    "                    x[5000:10000,]))[:, np.newaxis]\n",
    "\n",
    "X_plot = np.linspace(40, 160, 10000)[:, np.newaxis]\n",
    "\n",
    "from sklearn.neighbors import KernelDensity\n",
    "kde = KernelDensity(kernel='gaussian', bandwidth=0.75).fit(a)\n",
    "log_dens = kde.score_samples(a)\n",
    "\n",
    "fig, ax = plt.subplots()\n",
    "ax.hist(x, 50, density=True, cumulative=False, facecolor='gray', alpha=0.7)\n",
    "ax.fill(X_plot[:, 0], np.exp(log_dens))\n",
    "#N = 20\n",
    "#X = np.concatenate((np.random.normal(0, 1, int(0.3 * N)),\n",
    " #                   np.random.normal(5, 1, int(0.7 * N))))[:, np.newaxis]\n"
   ]
  },
  {
   "cell_type": "markdown",
   "metadata": {},
   "source": [
    "# Nonparametric density functions\n",
    "\n",
    "* Kernel density estimator of the density $f(x)$:\n",
    "$$\n",
    "\\hat{f}_n(x)=\\frac{1}{n\\lambda}\\sum_{i=1}^{n}K\\left(\\frac{x_i-x}{\\lambda}\\right) \n",
    "$$\n",
    "where the kernel function $K:\\mathbb{R}\\to\\mathbb{R}$ assigns a weight to $x_i$ based on its distance from $x$, and the $\\lambda > 0$ parameter defines the width of the local neighborhood.\n",
    "\n",
    "Kernel |$K(u)$\n",
    "-|-\n",
    "Rectangular | $\\tfrac{1}{2}I(|u|\\leq1)$\n",
    "Triangular|$(1-|u|)I(|u|\\leq1)$\n",
    "Epanechnikov|$\\tfrac{3}{4}\\left(1-u^2\\right) I(|u|\\leq1)$\n",
    "Biweight|$\\tfrac{15}{16}\\left(1-u^2\\right)^2I(|u|\\leq1)$\n",
    "Triweight|$\\tfrac{35}{32}\\left(1-u^2\\right)^3I(|u|\\leq1)$\n",
    "Gaussian|$\\tfrac{1}{\\sqrt{2\\pi}}\\exp\\left(-u^2/2\\right)$\n",
    "Silverman|$\\tfrac{1}{2}\\exp\\left(-|u|\\sqrt{2}\\right)\\sin\\left(|u|/\\sqrt{2}+\\pi/4\\right)$\n",
    "Cosine|$\\tfrac{\\pi}{4}\\cos\\left(\\tfrac{\\pi}{2}u\\right)I(|u|\\leq1)$\n",
    "\n",
    "<img src='kernels.png' width='700' />\n"
   ]
  },
  {
   "cell_type": "code",
   "execution_count": 11,
   "metadata": {},
   "outputs": [
    {
     "data": {
      "image/png": "[encoded data removed]",
      "text/plain": [
       "<Figure size 432x288 with 1 Axes>"
      ]
     },
     "metadata": {
      "needs_background": "light"
     },
     "output_type": "display_data"
    }
   ],
   "source": [
    "import numpy as np\n",
    "import matplotlib\n",
    "import matplotlib.pyplot as plt\n",
    "from scipy.stats import norm\n",
    "from sklearn.neighbors import KernelDensity\n",
    "\n",
    "N = 100\n",
    "np.random.seed(1)\n",
    "X = np.concatenate((np.random.normal(0, 1, int(0.3 * N)),\n",
    "                    np.random.normal(5, 1, int(0.7 * N))))[:, np.newaxis]\n",
    "\n",
    "X_plot = np.linspace(-5, 10, 1000)[:, np.newaxis]\n",
    "\n",
    "true_dens = (0.3 * norm(0, 1).pdf(X_plot[:, 0])\n",
    "             + 0.7 * norm(5, 1).pdf(X_plot[:, 0]))\n",
    "\n",
    "fig, ax = plt.subplots()\n",
    "ax.fill(X_plot[:, 0], true_dens, fc='black', alpha=0.3,\n",
    "        label='input distribution')\n",
    "\n",
    "ax.hist(X, density=True, cumulative=False, facecolor='b', alpha=0.2)\n",
    "\n",
    "for kernel in ['gaussian', 'tophat', 'epanechnikov']:\n",
    "    kde = KernelDensity(kernel=kernel, bandwidth=0.5).fit(X)\n",
    "    log_dens = kde.score_samples(X_plot)\n",
    "    ax.plot(X_plot[:, 0], np.exp(log_dens), '-',\n",
    "            label=\"kernel = '{0}'\".format(kernel))\n",
    "\n",
    "ax.text(6, 0.38, \"N={0} points\".format(N))\n",
    "\n",
    "ax.legend(loc='upper left')\n",
    "ax.plot(X[:, 0], -0.005 - 0.01 * np.random.random(X.shape[0]), '+k')\n",
    "\n",
    "\n",
    "ax.set_xlim(-4, 9)\n",
    "ax.set_ylim(-0.02, 0.4)\n",
    "plt.show()"
   ]
  },
  {
   "cell_type": "markdown",
   "metadata": {},
   "source": [
    "# Box-plots\n",
    "\n",
    "<img src='boxplot.png' width='700' />"
   ]
  },
  {
   "cell_type": "code",
   "execution_count": null,
   "metadata": {},
   "outputs": [],
   "source": []
  },
  {
   "cell_type": "markdown",
   "metadata": {},
   "source": [
    "# Violin plots"
   ]
  },
  {
   "cell_type": "code",
   "execution_count": null,
   "metadata": {},
   "outputs": [],
   "source": []
  },
  {
   "cell_type": "markdown",
   "metadata": {},
   "source": [
    "# Plots"
   ]
  },
  {
   "cell_type": "code",
   "execution_count": null,
   "metadata": {},
   "outputs": [],
   "source": [
    "# basic line plot\n",
    "import matplotlib.pyplot as plt\n",
    "import numpy as np\n",
    "myarray = np.array([1, 2, 3])\n",
    "plt.plot(myarray)\n",
    "plt.xlabel('x axis')\n",
    "plt.ylabel('y axis')\n",
    "plt.show()"
   ]
  },
  {
   "cell_type": "markdown",
   "metadata": {},
   "source": [
    "# Matrix"
   ]
  },
  {
   "cell_type": "code",
   "execution_count": null,
   "metadata": {},
   "outputs": [],
   "source": [
    "import numpy as np"
   ]
  }
 ],
 "metadata": {
  "kernelspec": {
   "display_name": "Python 3",
   "language": "python",
   "name": "python3"
  },
  "language_info": {
   "codemirror_mode": {
    "name": "ipython",
    "version": 3
   },
   "file_extension": ".py",
   "mimetype": "text/x-python",
   "name": "python",
   "nbconvert_exporter": "python",
   "pygments_lexer": "ipython3",
   "version": "3.7.4"
  }
 },
 "nbformat": 4,
 "nbformat_minor": 2
}
